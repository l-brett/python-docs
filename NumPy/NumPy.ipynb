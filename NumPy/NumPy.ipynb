{
 "cells": [
  {
   "cell_type": "code",
   "execution_count": 1,
   "id": "348ed36b",
   "metadata": {},
   "outputs": [],
   "source": [
    "import numpy as np"
   ]
  },
  {
   "cell_type": "markdown",
   "id": "83bf8d07",
   "metadata": {},
   "source": [
    "## Arrays"
   ]
  },
  {
   "cell_type": "markdown",
   "id": "09be85b0",
   "metadata": {},
   "source": [
    "### Data types\n",
    "NumPy arrays contain values of a single type.\n",
    "\n",
    "When constructing arrays its data type can be specfied using a string or the associated NumPy object."
   ]
  },
  {
   "cell_type": "code",
   "execution_count": 19,
   "id": "f09a2eb6",
   "metadata": {},
   "outputs": [
    {
     "data": {
      "text/plain": [
       "array([0, 0, 0, 0, 0, 0, 0, 0, 0, 0], dtype=int16)"
      ]
     },
     "execution_count": 19,
     "metadata": {},
     "output_type": "execute_result"
    }
   ],
   "source": [
    "np.zeros(10, dtype='int16')\n",
    "np.zeros(10, dtype=np.int16)"
   ]
  },
  {
   "cell_type": "markdown",
   "id": "e1602e1e",
   "metadata": {},
   "source": [
    "The following table lists the standard available data types\n",
    "\n",
    "| Data type  | Description                                                                 |\n",
    "|------------|-----------------------------------------------------------------------------|\n",
    "| bool_      | Boolean (True or False) stored as a byte                                    |\n",
    "| int_       | Default integer type (same as C long; normally either int64 or int32)       |\n",
    "| intc       | Identical to C int (normally int32 or int64)                                |\n",
    "| intp       | Integer used for indexing (same as C ssize_t; normally either int32 or int64)|\n",
    "| int8       | Byte (-128 to 127)                                                          |\n",
    "| int16      | Integer (-32768 to 32767)                                                   |\n",
    "| int32      | Integer (-2147483648 to 2147483647)                                         |\n",
    "| int64      | Integer (-9223372036854775808 to 9223372036854775807)                       |\n",
    "| uint8      | Unsigned integer (0 to 255)                                                 |\n",
    "| uint16     | Unsigned integer (0 to 65535)                                               |\n",
    "| uint32     | Unsigned integer (0 to 4294967295)                                          |\n",
    "| uint64     | Unsigned integer (0 to 18446744073709551615)                                |\n",
    "| float_     | Shorthand for float64                                                       |\n",
    "| float16    | Half precision float: sign bit, 5 bits exponent, 10 bits mantissa           |\n",
    "| float32    | Single precision float: sign bit, 8 bits exponent, 23 bits mantissa         |\n",
    "| float64    | Double precision float: sign bit, 11 bits exponent, 52 bits mantissa        |\n",
    "| complex_   | Shorthand for complex128                                                    |\n",
    "| complex64  | Complex number, represented by two 32-bit floats                            |\n",
    "| complex128 | Complex number, represented by two 64-bit floats                            |\n"
   ]
  },
  {
   "cell_type": "markdown",
   "id": "7a6609d0",
   "metadata": {},
   "source": [
    "### Generating Arrays with Data\n",
    "\n",
    "There are numerous methods built into numpy for generating data from scratch.\n",
    "\n",
    "Here are a few useful examples:"
   ]
  },
  {
   "cell_type": "code",
   "execution_count": 6,
   "id": "354886de",
   "metadata": {},
   "outputs": [
    {
     "data": {
      "text/plain": [
       "array([0, 0, 0, 0])"
      ]
     },
     "execution_count": 6,
     "metadata": {},
     "output_type": "execute_result"
    }
   ],
   "source": [
    "# Create an array with n length of a particular data type\n",
    "np.zeros(4, dtype=int)"
   ]
  },
  {
   "cell_type": "code",
   "execution_count": null,
   "id": "82693419",
   "metadata": {},
   "outputs": [
    {
     "data": {
      "text/plain": [
       "array([[1., 1., 1., 1.],\n",
       "       [1., 1., 1., 1.],\n",
       "       [1., 1., 1., 1.]])"
      ]
     },
     "execution_count": 7,
     "metadata": {},
     "output_type": "execute_result"
    }
   ],
   "source": [
    "# Create a NxM array floating point array filled with ones\n",
    "np.ones((3, 4), dtype=float)"
   ]
  },
  {
   "cell_type": "code",
   "execution_count": 8,
   "id": "2352fdd1",
   "metadata": {},
   "outputs": [
    {
     "data": {
      "text/plain": [
       "array([[5, 5, 5, 5, 5],\n",
       "       [5, 5, 5, 5, 5],\n",
       "       [5, 5, 5, 5, 5]])"
      ]
     },
     "execution_count": 8,
     "metadata": {},
     "output_type": "execute_result"
    }
   ],
   "source": [
    "# Create a NxM array floating point array filled with a particular value\n",
    "np.full((3, 5),5)"
   ]
  },
  {
   "cell_type": "code",
   "execution_count": 14,
   "id": "f9af400a",
   "metadata": {},
   "outputs": [
    {
     "data": {
      "text/plain": [
       "array([[0.24394445, 0.93279747, 0.2063483 , 0.76358987],\n",
       "       [0.2662649 , 0.2185545 , 0.72974924, 0.63809146],\n",
       "       [0.1553939 , 0.94900345, 0.48027702, 0.33224061]])"
      ]
     },
     "execution_count": 14,
     "metadata": {},
     "output_type": "execute_result"
    }
   ],
   "source": [
    "# Create an NxM array filled with random values between 0 and 1\n",
    "np.random.rand(3, 4)"
   ]
  },
  {
   "cell_type": "code",
   "execution_count": 9,
   "id": "07d4d66c",
   "metadata": {},
   "outputs": [
    {
     "data": {
      "text/plain": [
       "array([ 0,  2,  4,  6,  8, 10, 12, 14, 16, 18])"
      ]
     },
     "execution_count": 9,
     "metadata": {},
     "output_type": "execute_result"
    }
   ],
   "source": [
    "# Create an array filed with a linear sequence\n",
    "np.arange(0, 20, 2)"
   ]
  },
  {
   "cell_type": "code",
   "execution_count": 10,
   "id": "5a8ac3c1",
   "metadata": {},
   "outputs": [
    {
     "data": {
      "text/plain": [
       "array([0.  , 0.25, 0.5 , 0.75, 1.  ])"
      ]
     },
     "execution_count": 10,
     "metadata": {},
     "output_type": "execute_result"
    }
   ],
   "source": [
    "# Create a linearly spaced array of X elements between two values,\n",
    "np.linspace(0, 1, 5)"
   ]
  },
  {
   "cell_type": "code",
   "execution_count": 13,
   "id": "29144e21",
   "metadata": {},
   "outputs": [
    {
     "data": {
      "text/plain": [
       "array([[-0.85303289,  0.493218  , -1.32895327, -0.51528394],\n",
       "       [ 1.46708042, -1.56252265,  0.03486345,  0.5653369 ],\n",
       "       [ 0.10080724, -0.53473314, -0.02646851, -1.21584473],\n",
       "       [ 0.25632715, -0.56088758, -0.5120903 ,  2.34229673]])"
      ]
     },
     "execution_count": 13,
     "metadata": {},
     "output_type": "execute_result"
    }
   ],
   "source": [
    "# Create a NxM normally distributed array with mean 0 and standard deviation 1\n",
    "np.random.normal(0, 1, size=(4, 4))"
   ]
  },
  {
   "cell_type": "code",
   "execution_count": 15,
   "id": "86aa9669",
   "metadata": {},
   "outputs": [
    {
     "data": {
      "text/plain": [
       "array([[1., 0., 0., 0.],\n",
       "       [0., 1., 0., 0.],\n",
       "       [0., 0., 1., 0.],\n",
       "       [0., 0., 0., 1.]])"
      ]
     },
     "execution_count": 15,
     "metadata": {},
     "output_type": "execute_result"
    }
   ],
   "source": [
    "# Create an n-dimensional identity matrix\n",
    "np.eye(4)"
   ]
  },
  {
   "cell_type": "code",
   "execution_count": null,
   "id": "f3063d54",
   "metadata": {},
   "outputs": [
    {
     "data": {
      "text/plain": [
       "array([0.  , 0.25, 0.5 , 0.75, 1.  ])"
      ]
     },
     "execution_count": 18,
     "metadata": {},
     "output_type": "execute_result"
    }
   ],
   "source": [
    "# Create an unitialised array\n",
    "# Odd behaviour: Contents will be whatever random values were already in that memory location\n",
    "np.empty(5)"
   ]
  },
  {
   "cell_type": "markdown",
   "id": "f35fd3a7",
   "metadata": {},
   "source": [
    "### Array Attributes\n",
    "\n",
    "There are a number of useful array attributes.\n",
    "\n",
    "Let's create some arrays to demonstrate"
   ]
  },
  {
   "cell_type": "code",
   "execution_count": 3,
   "id": "b39da815",
   "metadata": {},
   "outputs": [],
   "source": [
    "\n",
    "np.random.seed(0)  # seed for reproducibility\n",
    "\n",
    "x1 = np.random.randint(10, size=6)  # One-dimensional array\n",
    "x2 = np.random.randint(10, size=(3, 4))  # Two-dimensional array\n",
    "x3 = np.random.randint(10, size=(3, 4, 5))  # Three-dimensional array"
   ]
  },
  {
   "cell_type": "code",
   "execution_count": null,
   "id": "9d79f63e",
   "metadata": {},
   "outputs": [
    {
     "name": "stdout",
     "output_type": "stream",
     "text": [
      "x3 ndim:  3\n",
      "x3 shape: (3, 4, 5)\n",
      "x3 size:  60\n",
      "dtype: int32\n",
      "itemsize: 4 bytes\n",
      "nbytes: 240 bytes\n"
     ]
    }
   ],
   "source": [
    "print(\"x3 ndim: \", x3.ndim) # number of dimensions\n",
    "print(\"x3 shape:\", x3.shape) # the size of each dimension\n",
    "print(\"x3 size: \", x3.size)  # the total size of the array\n",
    "print(\"dtype:\", x3.dtype) # data type\n",
    "\n",
    "print(\"itemsize:\", x3.itemsize, \"bytes\") # size of each element in bytes\n",
    "print(\"nbytes:\", x3.nbytes, \"bytes\") # total size of the array in bytes\n",
    "\n",
    "# nbytes is equivalent to itemsize * size"
   ]
  },
  {
   "cell_type": "markdown",
   "id": "32b5a007",
   "metadata": {},
   "source": [
    "### Accessing Array Data"
   ]
  },
  {
   "cell_type": "markdown",
   "id": "c752ec88",
   "metadata": {},
   "source": [
    "#### Accessing Single elements\n",
    "\n",
    "Indexes can be used to access individual elements like most other languages or data tpyes."
   ]
  },
  {
   "cell_type": "code",
   "execution_count": 5,
   "id": "3a23a693",
   "metadata": {},
   "outputs": [
    {
     "data": {
      "text/plain": [
       "np.int32(5)"
      ]
     },
     "execution_count": 5,
     "metadata": {},
     "output_type": "execute_result"
    }
   ],
   "source": [
    "x1[0]"
   ]
  },
  {
   "cell_type": "code",
   "execution_count": 6,
   "id": "346edeea",
   "metadata": {},
   "outputs": [
    {
     "data": {
      "text/plain": [
       "np.int32(9)"
      ]
     },
     "execution_count": 6,
     "metadata": {},
     "output_type": "execute_result"
    }
   ],
   "source": [
    "# To access elements from the end of the array, you can use negative indexing\n",
    "x1[-1]"
   ]
  },
  {
   "cell_type": "code",
   "execution_count": null,
   "id": "71b044a0",
   "metadata": {},
   "outputs": [
    {
     "data": {
      "text/plain": [
       "np.int32(7)"
      ]
     },
     "execution_count": 8,
     "metadata": {},
     "output_type": "execute_result"
    }
   ],
   "source": [
    "# In multidimensional arrays, you can access elements using a comma-separated tuple of indices\n",
    "x2[0, 0]  # First row, first column\n"
   ]
  },
  {
   "cell_type": "code",
   "execution_count": null,
   "id": "a8a4e67c",
   "metadata": {},
   "outputs": [],
   "source": [
    "x2[-1, -1] # Last row, last column"
   ]
  },
  {
   "cell_type": "markdown",
   "id": "21e58bc6",
   "metadata": {},
   "source": [
    "You can assign values using the same syntax.\n",
    "\n",
    "x1[0] = 5.1234\n",
    "\n",
    "x2[0, 0] = 12\n",
    "\n",
    "Note: in Python using a decimal number will be truncated if the array is an integer."
   ]
  },
  {
   "cell_type": "markdown",
   "id": "d7a4d825",
   "metadata": {},
   "source": [
    "#### Multidimensional arrays"
   ]
  },
  {
   "cell_type": "code",
   "execution_count": 29,
   "id": "84de3d63",
   "metadata": {},
   "outputs": [
    {
     "name": "stdout",
     "output_type": "stream",
     "text": [
      "[3 7 1]\n"
     ]
    }
   ],
   "source": [
    "print(x2[:, 0])  # first column of x2"
   ]
  },
  {
   "cell_type": "code",
   "execution_count": 30,
   "id": "d194255b",
   "metadata": {},
   "outputs": [
    {
     "name": "stdout",
     "output_type": "stream",
     "text": [
      "[3 5 2 4]\n"
     ]
    }
   ],
   "source": [
    "print(x2[0, :])  # first row of x2"
   ]
  },
  {
   "cell_type": "code",
   "execution_count": 31,
   "id": "71195126",
   "metadata": {},
   "outputs": [
    {
     "name": "stdout",
     "output_type": "stream",
     "text": [
      "[3 5 2 4]\n"
     ]
    }
   ],
   "source": [
    "print(x2[0])  # equivalent to x2[0, :]"
   ]
  },
  {
   "cell_type": "markdown",
   "id": "9816c8be",
   "metadata": {},
   "source": [
    "#### Array Slicing\n",
    "\n",
    "We can use standard python list slicing syntax to access multiple elements at once.\n",
    "\n",
    "x[start:stop:step]\n",
    "\n",
    "If any of these are omitted they default to the values:\n",
    "- start - 0\n",
    "- stop - size of the dimension\n",
    "- step - 1\n",
    "\n",
    "Here are some examples:\n",
    "\n"
   ]
  },
  {
   "cell_type": "code",
   "execution_count": 9,
   "id": "2a82ce4f",
   "metadata": {},
   "outputs": [
    {
     "data": {
      "text/plain": [
       "array([0, 1, 2, 3, 4, 5, 6, 7, 8, 9])"
      ]
     },
     "execution_count": 9,
     "metadata": {},
     "output_type": "execute_result"
    }
   ],
   "source": [
    "x = np.arange(10)\n",
    "x"
   ]
  },
  {
   "cell_type": "code",
   "execution_count": 10,
   "id": "bb495e81",
   "metadata": {},
   "outputs": [
    {
     "data": {
      "text/plain": [
       "array([0, 1, 2, 3, 4])"
      ]
     },
     "execution_count": 10,
     "metadata": {},
     "output_type": "execute_result"
    }
   ],
   "source": [
    "x[:5]  # First five elements"
   ]
  },
  {
   "cell_type": "code",
   "execution_count": null,
   "id": "ad38ffe6",
   "metadata": {},
   "outputs": [],
   "source": [
    "x[5:] # Elements after index 5"
   ]
  },
  {
   "cell_type": "code",
   "execution_count": 11,
   "id": "3feaf0d0",
   "metadata": {},
   "outputs": [
    {
     "data": {
      "text/plain": [
       "array([4, 5, 6])"
      ]
     },
     "execution_count": 11,
     "metadata": {},
     "output_type": "execute_result"
    }
   ],
   "source": [
    "x[4:7] # Elements from index 4 to 6"
   ]
  },
  {
   "cell_type": "code",
   "execution_count": 12,
   "id": "ff353337",
   "metadata": {},
   "outputs": [
    {
     "data": {
      "text/plain": [
       "array([0, 2, 4, 6, 8])"
      ]
     },
     "execution_count": 12,
     "metadata": {},
     "output_type": "execute_result"
    }
   ],
   "source": [
    "x[::2]  # Every second element"
   ]
  },
  {
   "cell_type": "code",
   "execution_count": 13,
   "id": "62416158",
   "metadata": {},
   "outputs": [
    {
     "data": {
      "text/plain": [
       "array([1, 3, 5, 7, 9])"
      ]
     },
     "execution_count": 13,
     "metadata": {},
     "output_type": "execute_result"
    }
   ],
   "source": [
    "x[1::2]  # Every second element starting at index 1"
   ]
  },
  {
   "cell_type": "markdown",
   "id": "046c09f6",
   "metadata": {},
   "source": [
    "In the case a negative step is provided, the start and stop are swapped."
   ]
  },
  {
   "cell_type": "code",
   "execution_count": 14,
   "id": "d927004f",
   "metadata": {},
   "outputs": [
    {
     "data": {
      "text/plain": [
       "array([9, 8, 7, 6, 5, 4, 3, 2, 1, 0])"
      ]
     },
     "execution_count": 14,
     "metadata": {},
     "output_type": "execute_result"
    }
   ],
   "source": [
    "x[::-1]  # all elements, reversed"
   ]
  },
  {
   "cell_type": "code",
   "execution_count": 15,
   "id": "e2218506",
   "metadata": {},
   "outputs": [
    {
     "data": {
      "text/plain": [
       "array([5, 3, 1])"
      ]
     },
     "execution_count": 15,
     "metadata": {},
     "output_type": "execute_result"
    }
   ],
   "source": [
    "x[5::-2]  # reversed every other from index 5"
   ]
  },
  {
   "cell_type": "markdown",
   "id": "20de4f9f",
   "metadata": {},
   "source": [
    "#### Multidimensional arrays"
   ]
  },
  {
   "cell_type": "code",
   "execution_count": 16,
   "id": "a52567ee",
   "metadata": {},
   "outputs": [
    {
     "data": {
      "text/plain": [
       "array([[3, 5, 2, 4],\n",
       "       [7, 6, 8, 8],\n",
       "       [1, 6, 7, 7]], dtype=int32)"
      ]
     },
     "execution_count": 16,
     "metadata": {},
     "output_type": "execute_result"
    }
   ],
   "source": [
    "x2"
   ]
  },
  {
   "cell_type": "code",
   "execution_count": null,
   "id": "47dd381f",
   "metadata": {},
   "outputs": [
    {
     "data": {
      "text/plain": [
       "array([[3, 5, 2],\n",
       "       [7, 6, 8]], dtype=int32)"
      ]
     },
     "execution_count": 17,
     "metadata": {},
     "output_type": "execute_result"
    }
   ],
   "source": [
    "x2[:2, :3]  # first two rows, first three columns"
   ]
  },
  {
   "cell_type": "code",
   "execution_count": 26,
   "id": "95777c24",
   "metadata": {},
   "outputs": [
    {
     "data": {
      "text/plain": [
       "array([[3, 2],\n",
       "       [7, 8],\n",
       "       [1, 7]], dtype=int32)"
      ]
     },
     "execution_count": 26,
     "metadata": {},
     "output_type": "execute_result"
    }
   ],
   "source": [
    "x2[::, ::2]  # all rows, every other column"
   ]
  },
  {
   "cell_type": "code",
   "execution_count": 27,
   "id": "0654dd99",
   "metadata": {},
   "outputs": [
    {
     "data": {
      "text/plain": [
       "array([[7, 7, 6, 1],\n",
       "       [8, 8, 6, 7],\n",
       "       [4, 2, 5, 3]], dtype=int32)"
      ]
     },
     "execution_count": 27,
     "metadata": {},
     "output_type": "execute_result"
    }
   ],
   "source": [
    "# Reverse the rows and columns\n",
    "x2[::-1, ::-1]"
   ]
  },
  {
   "cell_type": "markdown",
   "id": "5ad00ae8",
   "metadata": {},
   "source": [
    "### Copying Arrays\n",
    "NumPy array slices return a **view** of the array, which means that they don't create a copy. Any modifications to the view will be reflected in the original array.\n"
   ]
  },
  {
   "cell_type": "code",
   "execution_count": 32,
   "id": "70a9001d",
   "metadata": {},
   "outputs": [
    {
     "name": "stdout",
     "output_type": "stream",
     "text": [
      "[[3 5 2 4]\n",
      " [7 6 8 8]\n",
      " [1 6 7 7]]\n",
      "[[3 5]\n",
      " [7 6]]\n",
      "[[99  5]\n",
      " [ 7  6]]\n",
      "[[99  5  2  4]\n",
      " [ 7  6  8  8]\n",
      " [ 1  6  7  7]]\n"
     ]
    }
   ],
   "source": [
    "print(x2)\n",
    "\n",
    "x2_sub = x2[:2, :2]\n",
    "print(x2_sub)\n",
    "\n",
    "x2_sub[0, 0] = 99\n",
    "print(x2_sub)\n",
    "\n",
    "print(x2)"
   ]
  },
  {
   "cell_type": "markdown",
   "id": "c2f50d35",
   "metadata": {},
   "source": [
    "Creating copies is easy, and can be done simply with the .copy() method.\n",
    "\n",
    "This means you can modify a copy of a subarray without affecting the original data."
   ]
  },
  {
   "cell_type": "code",
   "execution_count": 33,
   "id": "912ccfd6",
   "metadata": {},
   "outputs": [],
   "source": [
    "x2_sub_copy = x2[:2, :2].copy()"
   ]
  },
  {
   "cell_type": "markdown",
   "id": "5788d387",
   "metadata": {},
   "source": [
    "### Reshaping arrays\n",
    "\n",
    "You can reshape an array with the reshape method.\n",
    "\n",
    "For this to work, the size of the initial array must match the size of the reshaped array."
   ]
  },
  {
   "cell_type": "code",
   "execution_count": 34,
   "id": "364ab508",
   "metadata": {},
   "outputs": [
    {
     "name": "stdout",
     "output_type": "stream",
     "text": [
      "[[1 2 3]\n",
      " [4 5 6]\n",
      " [7 8 9]]\n"
     ]
    }
   ],
   "source": [
    "# Create a one dimensional array and then reshape it into a 3x3 2D array\n",
    "grid = np.arange(1, 10).reshape((3, 3))\n",
    "print(grid)"
   ]
  },
  {
   "cell_type": "markdown",
   "id": "308a9a4a",
   "metadata": {},
   "source": [
    "Another common approach is to use the newaxis keyword within a slice operation"
   ]
  },
  {
   "cell_type": "code",
   "execution_count": 38,
   "id": "0c2ad1c2",
   "metadata": {},
   "outputs": [
    {
     "data": {
      "text/plain": [
       "array([[1, 2, 3]])"
      ]
     },
     "execution_count": 38,
     "metadata": {},
     "output_type": "execute_result"
    }
   ],
   "source": [
    "x = np.array([1, 2, 3])\n",
    "\n",
    "# row vector via reshape\n",
    "x.reshape((1, 3))"
   ]
  },
  {
   "cell_type": "code",
   "execution_count": 39,
   "id": "cda9de23",
   "metadata": {},
   "outputs": [
    {
     "data": {
      "text/plain": [
       "array([[1, 2, 3]])"
      ]
     },
     "execution_count": 39,
     "metadata": {},
     "output_type": "execute_result"
    }
   ],
   "source": [
    "# row vector via newaxis\n",
    "x[np.newaxis, :]"
   ]
  },
  {
   "cell_type": "code",
   "execution_count": 40,
   "id": "30a08c3f",
   "metadata": {},
   "outputs": [
    {
     "data": {
      "text/plain": [
       "array([[1],\n",
       "       [2],\n",
       "       [3]])"
      ]
     },
     "execution_count": 40,
     "metadata": {},
     "output_type": "execute_result"
    }
   ],
   "source": [
    "# column vector via reshape\n",
    "x.reshape((3, 1))"
   ]
  },
  {
   "cell_type": "code",
   "execution_count": 41,
   "id": "6e40f381",
   "metadata": {},
   "outputs": [
    {
     "data": {
      "text/plain": [
       "array([[1],\n",
       "       [2],\n",
       "       [3]])"
      ]
     },
     "execution_count": 41,
     "metadata": {},
     "output_type": "execute_result"
    }
   ],
   "source": [
    "# column vector via newaxis\n",
    "x[:, np.newaxis]"
   ]
  },
  {
   "cell_type": "code",
   "execution_count": null,
   "id": "0bd54868",
   "metadata": {},
   "outputs": [],
   "source": [
    "### Array Concatenation and Splitting"
   ]
  },
  {
   "cell_type": "code",
   "execution_count": null,
   "id": "e0467ed0",
   "metadata": {},
   "outputs": [
    {
     "data": {
      "text/plain": [
       "array([1, 2, 3, 3, 2, 1])"
      ]
     },
     "execution_count": 42,
     "metadata": {},
     "output_type": "execute_result"
    }
   ],
   "source": [
    "# concatenate joins two arraysx = np.array([1, 2, 3])\n",
    "y = np.array([3, 2, 1])\n",
    "np.concatenate([x, y])"
   ]
  },
  {
   "cell_type": "code",
   "execution_count": 43,
   "id": "e49e5613",
   "metadata": {},
   "outputs": [
    {
     "name": "stdout",
     "output_type": "stream",
     "text": [
      "[[1 2 3]\n",
      " [4 5 6]\n",
      " [1 2 3]\n",
      " [4 5 6]]\n"
     ]
    }
   ],
   "source": [
    "# it can be used for multidimensional arrays as well\n",
    "grid = np.array([[1, 2, 3],\n",
    "                 [4, 5, 6]])\n",
    "print(np.concatenate([grid, grid]))\n"
   ]
  },
  {
   "cell_type": "code",
   "execution_count": 44,
   "id": "85923534",
   "metadata": {},
   "outputs": [
    {
     "data": {
      "text/plain": [
       "array([[1, 2, 3, 1, 2, 3],\n",
       "       [4, 5, 6, 4, 5, 6]])"
      ]
     },
     "execution_count": 44,
     "metadata": {},
     "output_type": "execute_result"
    }
   ],
   "source": [
    "# concatenate along the second axis (zero-indexed)\n",
    "np.concatenate([grid, grid], axis=1)"
   ]
  },
  {
   "cell_type": "code",
   "execution_count": 45,
   "id": "3d67a2ea",
   "metadata": {},
   "outputs": [
    {
     "data": {
      "text/plain": [
       "array([[1, 2, 3],\n",
       "       [9, 8, 7],\n",
       "       [6, 5, 4]])"
      ]
     },
     "execution_count": 45,
     "metadata": {},
     "output_type": "execute_result"
    }
   ],
   "source": [
    "# vstack is great for stacking arrays vertically (row-wise) where you have mixed dimensions\n",
    "\n",
    "x = np.array([1, 2, 3])\n",
    "grid = np.array([[9, 8, 7],\n",
    "                 [6, 5, 4]])\n",
    "\n",
    "np.vstack([x, grid])"
   ]
  },
  {
   "cell_type": "markdown",
   "id": "1d3f4129",
   "metadata": {},
   "source": [
    "`hstack` is the equivalent for horizontal stacking"
   ]
  },
  {
   "cell_type": "markdown",
   "id": "8cefbc08",
   "metadata": {},
   "source": [
    "### Splitting Arrays\n",
    "Opposite to joining we might want to split arrays into sub arrays."
   ]
  },
  {
   "cell_type": "code",
   "execution_count": 59,
   "id": "2a926f28",
   "metadata": {},
   "outputs": [
    {
     "name": "stdout",
     "output_type": "stream",
     "text": [
      "[1 2 3] [99 99] [3 2 1]\n"
     ]
    }
   ],
   "source": [
    "# We pass indicies where we want to split the array\n",
    "x = [1, 2, 3, 99, 99, 3, 2, 1]\n",
    "x1, x2, x3 = np.split(x, [3,5])\n",
    "print(x1, x2, x3)"
   ]
  },
  {
   "cell_type": "markdown",
   "id": "2f017683",
   "metadata": {},
   "source": [
    "Similar to concatenation we have `hsplit` and `vsplit` for splitting along rows and columns"
   ]
  },
  {
   "cell_type": "code",
   "execution_count": 60,
   "id": "0b77b93c",
   "metadata": {},
   "outputs": [
    {
     "data": {
      "text/plain": [
       "array([[ 0,  1,  2,  3],\n",
       "       [ 4,  5,  6,  7],\n",
       "       [ 8,  9, 10, 11],\n",
       "       [12, 13, 14, 15]])"
      ]
     },
     "execution_count": 60,
     "metadata": {},
     "output_type": "execute_result"
    }
   ],
   "source": [
    "grid = np.arange(16).reshape((4, 4))\n",
    "grid"
   ]
  },
  {
   "cell_type": "code",
   "execution_count": 61,
   "id": "cd80d5fd",
   "metadata": {},
   "outputs": [
    {
     "name": "stdout",
     "output_type": "stream",
     "text": [
      "[[0 1 2 3]\n",
      " [4 5 6 7]]\n",
      "[[ 8  9 10 11]\n",
      " [12 13 14 15]]\n"
     ]
    }
   ],
   "source": [
    "upper, lower = np.vsplit(grid, [2])\n",
    "print(upper)\n",
    "print(lower)"
   ]
  },
  {
   "cell_type": "code",
   "execution_count": 62,
   "id": "54edaa87",
   "metadata": {},
   "outputs": [
    {
     "name": "stdout",
     "output_type": "stream",
     "text": [
      "[[ 0  1]\n",
      " [ 4  5]\n",
      " [ 8  9]\n",
      " [12 13]]\n",
      "[[ 2  3]\n",
      " [ 6  7]\n",
      " [10 11]\n",
      " [14 15]]\n"
     ]
    }
   ],
   "source": [
    "left, right = np.hsplit(grid, [2])\n",
    "print(left)\n",
    "print(right)"
   ]
  },
  {
   "cell_type": "markdown",
   "id": "4979a156",
   "metadata": {},
   "source": [
    "## Computation of Arrays: Universal Functions\n",
    "Python's default implementation can be very slow with some operations. Due in part to the fact that Python is an interpreted language and not a compiled one.\n",
    "\n",
    "There have been recent attempts to address this pwith projects like `PyPy`, which is a JIT compiled version of Python.\n",
    "\n",
    "`Cython`, which converts python code into compilable C code.\n",
    "\n",
    "`Numba` which converts python code to fast LLVM bytecode.\n",
    "\n",
    "All have strengths and weaknesses and are nowhere near as popoular as the standard CPython engine."
   ]
  },
  {
   "cell_type": "markdown",
   "id": "489a41a6",
   "metadata": {},
   "source": [
    "One such example of poor perfomance is the element-wise operations on arrays. Take this for loop example:"
   ]
  },
  {
   "cell_type": "code",
   "execution_count": 66,
   "id": "20593bde",
   "metadata": {},
   "outputs": [
    {
     "data": {
      "text/plain": [
       "array([0.16666667, 1.        , 0.25      , 0.25      , 0.125     ])"
      ]
     },
     "execution_count": 66,
     "metadata": {},
     "output_type": "execute_result"
    }
   ],
   "source": [
    "import numpy as np\n",
    "np.random.seed(0)\n",
    "\n",
    "def compute_reciprocals(values):\n",
    "    output = np.empty(len(values))\n",
    "    for i in range(len(values)):\n",
    "        output[i] = 1.0 / values[i]\n",
    "    return output\n",
    "        \n",
    "values = np.random.randint(1, 10, size=5)\n",
    "compute_reciprocals(values)"
   ]
  },
  {
   "cell_type": "code",
   "execution_count": 67,
   "id": "83cde7a9",
   "metadata": {},
   "outputs": [
    {
     "name": "stdout",
     "output_type": "stream",
     "text": [
      "1.38 s ± 4.6 ms per loop (mean ± std. dev. of 7 runs, 1 loop each)\n"
     ]
    }
   ],
   "source": [
    "big_array = np.random.randint(1, 100, size=1000000)\n",
    "%timeit compute_reciprocals(big_array)"
   ]
  },
  {
   "cell_type": "markdown",
   "id": "797bc1ae",
   "metadata": {},
   "source": [
    "NumPy provides `UFuncs` which act as an interface into this statically typed compiled routine. This is known as a **vectorized** operation. It can be accomplished by performing an operation on the array, which will then be applied to each element."
   ]
  },
  {
   "cell_type": "code",
   "execution_count": 68,
   "id": "ff23b813",
   "metadata": {},
   "outputs": [
    {
     "name": "stdout",
     "output_type": "stream",
     "text": [
      "[0.16666667 1.         0.25       0.25       0.125     ]\n",
      "[0.16666667 1.         0.25       0.25       0.125     ]\n"
     ]
    }
   ],
   "source": [
    "print(compute_reciprocals(values))\n",
    "print(1.0 / values)"
   ]
  },
  {
   "cell_type": "markdown",
   "id": "6d94613b",
   "metadata": {},
   "source": [
    "We can see the performance improvment here:"
   ]
  },
  {
   "cell_type": "code",
   "execution_count": 69,
   "id": "18d64ebc",
   "metadata": {},
   "outputs": [
    {
     "name": "stdout",
     "output_type": "stream",
     "text": [
      "505 μs ± 2.46 μs per loop (mean ± std. dev. of 7 runs, 1,000 loops each)\n"
     ]
    }
   ],
   "source": [
    "%timeit (1.0 / big_array)"
   ]
  },
  {
   "cell_type": "markdown",
   "id": "5eb65d26",
   "metadata": {},
   "source": [
    "Here are some other examples:"
   ]
  },
  {
   "cell_type": "code",
   "execution_count": 70,
   "id": "3b6c833d",
   "metadata": {},
   "outputs": [
    {
     "name": "stdout",
     "output_type": "stream",
     "text": [
      "x     = [0 1 2 3]\n",
      "x + 5 = [5 6 7 8]\n",
      "x - 5 = [-5 -4 -3 -2]\n",
      "x * 2 = [0 2 4 6]\n",
      "x / 2 = [0.  0.5 1.  1.5]\n",
      "x // 2 = [0 0 1 1]\n",
      "-x     =  [ 0 -1 -2 -3]\n",
      "x ** 2 =  [0 1 4 9]\n",
      "x % 2  =  [0 1 0 1]\n"
     ]
    }
   ],
   "source": [
    "x = np.arange(4)\n",
    "print(\"x     =\", x)\n",
    "print(\"x + 5 =\", x + 5)\n",
    "print(\"x - 5 =\", x - 5)\n",
    "print(\"x * 2 =\", x * 2)\n",
    "print(\"x / 2 =\", x / 2)\n",
    "print(\"x // 2 =\", x // 2)  # floor division\n",
    "print(\"-x     = \", -x)\n",
    "print(\"x ** 2 = \", x ** 2)\n",
    "print(\"x % 2  = \", x % 2)"
   ]
  },
  {
   "cell_type": "code",
   "execution_count": 71,
   "id": "09722b60",
   "metadata": {},
   "outputs": [
    {
     "data": {
      "text/plain": [
       "array([2, 1, 0, 1, 2])"
      ]
     },
     "execution_count": 71,
     "metadata": {},
     "output_type": "execute_result"
    }
   ],
   "source": [
    "x = np.array([-2, -1, 0, 1, 2])\n",
    "abs(x)"
   ]
  },
  {
   "cell_type": "markdown",
   "id": "9e3ae38a",
   "metadata": {},
   "source": [
    "There are also trigonomic ufuncs:"
   ]
  },
  {
   "cell_type": "code",
   "execution_count": 73,
   "id": "c6ba9489",
   "metadata": {},
   "outputs": [],
   "source": [
    "theta = np.linspace(0, np.pi, 3)"
   ]
  },
  {
   "cell_type": "code",
   "execution_count": 74,
   "id": "8ad98205",
   "metadata": {},
   "outputs": [
    {
     "name": "stdout",
     "output_type": "stream",
     "text": [
      "theta      =  [0.         1.57079633 3.14159265]\n",
      "sin(theta) =  [0.0000000e+00 1.0000000e+00 1.2246468e-16]\n",
      "cos(theta) =  [ 1.000000e+00  6.123234e-17 -1.000000e+00]\n",
      "tan(theta) =  [ 0.00000000e+00  1.63312394e+16 -1.22464680e-16]\n"
     ]
    }
   ],
   "source": [
    "print(\"theta      = \", theta)\n",
    "print(\"sin(theta) = \", np.sin(theta))\n",
    "print(\"cos(theta) = \", np.cos(theta))\n",
    "print(\"tan(theta) = \", np.tan(theta))"
   ]
  },
  {
   "cell_type": "code",
   "execution_count": 75,
   "id": "2bcda0e9",
   "metadata": {},
   "outputs": [
    {
     "name": "stdout",
     "output_type": "stream",
     "text": [
      "x         =  [-1, 0, 1]\n",
      "arcsin(x) =  [-1.57079633  0.          1.57079633]\n",
      "arccos(x) =  [3.14159265 1.57079633 0.        ]\n",
      "arctan(x) =  [-0.78539816  0.          0.78539816]\n"
     ]
    }
   ],
   "source": [
    "x = [-1, 0, 1]\n",
    "print(\"x         = \", x)\n",
    "print(\"arcsin(x) = \", np.arcsin(x))\n",
    "print(\"arccos(x) = \", np.arccos(x))\n",
    "print(\"arctan(x) = \", np.arctan(x))"
   ]
  },
  {
   "cell_type": "markdown",
   "id": "faa0e41a",
   "metadata": {},
   "source": [
    "As well as exponents and logarithms. \n",
    "\n",
    "Full details can be found at the following:\n",
    "- NumPy - http://www.numpy.org/\n",
    "- SciPy - http://www.scipy.org/\n",
    "\n",
    "Or using the built in IPYthon help system, type \"help(np)\", \"np?\" or \"np.\" to see a list of all available functions. \n",
    "\n"
   ]
  },
  {
   "cell_type": "code",
   "execution_count": null,
   "id": "a2aa61de",
   "metadata": {},
   "outputs": [],
   "source": [
    "## Aggregate Functions"
   ]
  },
  {
   "cell_type": "code",
   "execution_count": 76,
   "id": "7e3047ab",
   "metadata": {},
   "outputs": [
    {
     "data": {
      "text/plain": [
       "np.float64(50.461758453195614)"
      ]
     },
     "execution_count": 76,
     "metadata": {},
     "output_type": "execute_result"
    }
   ],
   "source": [
    "L = np.random.random(100)\n",
    "sum(L)"
   ]
  },
  {
   "cell_type": "code",
   "execution_count": 77,
   "id": "1af2ec1e",
   "metadata": {},
   "outputs": [
    {
     "name": "stdout",
     "output_type": "stream",
     "text": [
      "50 ms ± 290 μs per loop (mean ± std. dev. of 7 runs, 10 loops each)\n",
      "273 μs ± 1.79 μs per loop (mean ± std. dev. of 7 runs, 1,000 loops each)\n"
     ]
    }
   ],
   "source": [
    "big_array = np.random.rand(1000000)\n",
    "%timeit sum(big_array)\n",
    "%timeit np.sum(big_array)"
   ]
  },
  {
   "cell_type": "code",
   "execution_count": 79,
   "id": "7e8eeee6",
   "metadata": {},
   "outputs": [
    {
     "data": {
      "text/plain": [
       "(np.float64(7.071203171893359e-07), np.float64(0.9999997207656334))"
      ]
     },
     "execution_count": 79,
     "metadata": {},
     "output_type": "execute_result"
    }
   ],
   "source": [
    "np.min(big_array), np.max(big_array)"
   ]
  }
 ],
 "metadata": {
  "kernelspec": {
   "display_name": ".venv",
   "language": "python",
   "name": "python3"
  },
  "language_info": {
   "codemirror_mode": {
    "name": "ipython",
    "version": 3
   },
   "file_extension": ".py",
   "mimetype": "text/x-python",
   "name": "python",
   "nbconvert_exporter": "python",
   "pygments_lexer": "ipython3",
   "version": "3.13.9"
  }
 },
 "nbformat": 4,
 "nbformat_minor": 5
}
